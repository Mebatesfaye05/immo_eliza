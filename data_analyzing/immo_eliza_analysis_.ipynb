{
 "cells": [
  {
   "cell_type": "code",
   "execution_count": 76,
   "metadata": {},
   "outputs": [],
   "source": [
    "import numpy as np\n",
    "import pandas as pd\n",
    "import matplotlib.pyplot as plt\n",
    "import seaborn as sns"
   ]
  },
  {
   "cell_type": "code",
   "execution_count": 77,
   "metadata": {},
   "outputs": [
    {
     "name": "stdout",
     "output_type": "stream",
     "text": [
      "<class 'pandas.core.frame.DataFrame'>\n",
      "RangeIndex: 78192 entries, 0 to 78191\n",
      "Data columns (total 20 columns):\n",
      " #   Column                            Non-Null Count  Dtype  \n",
      "---  ------                            --------------  -----  \n",
      " 0   Unnamed: 0                        78192 non-null  int64  \n",
      " 1   To rent                           74200 non-null  object \n",
      " 2   To sell                           74200 non-null  object \n",
      " 3   Price                             74200 non-null  float64\n",
      " 4   Number of rooms                   73277 non-null  float64\n",
      " 5   Living Area                       62305 non-null  float64\n",
      " 6   Fully equipped kitchen            47940 non-null  object \n",
      " 7   Furnished                         51057 non-null  object \n",
      " 8   Open fire                         78192 non-null  bool   \n",
      " 9   Terrace                           78192 non-null  bool   \n",
      " 10  Area of the terrace               61406 non-null  float64\n",
      " 11  Garden                            78192 non-null  bool   \n",
      " 12  Area of the garden                69613 non-null  float64\n",
      " 13  Surface of the land               34343 non-null  float64\n",
      " 14  Surface area of the plot of land  34343 non-null  float64\n",
      " 15  Number of facades                 53201 non-null  float64\n",
      " 16  Swimming pool                     78192 non-null  bool   \n",
      " 17  State of the building             53060 non-null  object \n",
      " 18  zipcode                           78192 non-null  int64  \n",
      " 19  type                              78191 non-null  object \n",
      "dtypes: bool(4), float64(8), int64(2), object(6)\n",
      "memory usage: 9.8+ MB\n",
      "None\n"
     ]
    }
   ],
   "source": [
    "# Read the csv file\n",
    "data_file = r'C:\\Users\\Gebruiker\\Downloads\\data_a.csv'\n",
    "data = pd.read_csv(data_file)\n",
    "print(data.info())"
   ]
  },
  {
   "attachments": {},
   "cell_type": "markdown",
   "metadata": {},
   "source": [
    "Data cleaning "
   ]
  },
  {
   "cell_type": "code",
   "execution_count": 78,
   "metadata": {},
   "outputs": [
    {
     "name": "stdout",
     "output_type": "stream",
     "text": [
      "       Unnamed: 0 To rent To sell     Price  Number of rooms  Living Area  \\\n",
      "0         1610665    True   False     485.0              1.0         40.0   \n",
      "1         2718948    True   False     790.0              2.0        140.0   \n",
      "2         3229637    True   False     900.0              3.0        103.0   \n",
      "3         3860205    True   False     520.0              2.0         50.0   \n",
      "4         4141598    True   False     760.0              1.0         55.0   \n",
      "...           ...     ...     ...       ...              ...          ...   \n",
      "78187    10316113   False    True  349000.0              4.0          NaN   \n",
      "78188    10316130    True   False     590.0              1.0          NaN   \n",
      "78189    10316135    True   False     595.0              1.0          NaN   \n",
      "78190    10316134    True   False    1150.0              3.0        800.0   \n",
      "78191    10316136    True   False    1590.0              3.0        100.0   \n",
      "\n",
      "      Fully equipped kitchen Furnished  Open fire  Terrace  \\\n",
      "0                       True     False      False    False   \n",
      "1                       True     False      False    False   \n",
      "2                        NaN     False      False    False   \n",
      "3                       True     False      False    False   \n",
      "4                       True       NaN      False     True   \n",
      "...                      ...       ...        ...      ...   \n",
      "78187                    NaN       NaN      False    False   \n",
      "78188                   True       NaN      False    False   \n",
      "78189                    NaN       NaN      False    False   \n",
      "78190                   True     False      False     True   \n",
      "78191                   True     False      False     True   \n",
      "\n",
      "       Area of the terrace  Garden  Area of the garden  Surface of the land  \\\n",
      "0                      0.0   False                 0.0                  NaN   \n",
      "1                      0.0   False                 0.0                  NaN   \n",
      "2                      0.0    True               330.0                400.0   \n",
      "3                      0.0   False                 0.0                  NaN   \n",
      "4                     30.0    True             10000.0                  NaN   \n",
      "...                    ...     ...                 ...                  ...   \n",
      "78187                  0.0    True                 1.0                  NaN   \n",
      "78188                  0.0   False                 0.0                  NaN   \n",
      "78189                  0.0   False                 0.0                  NaN   \n",
      "78190                  1.0    True                 1.0                  NaN   \n",
      "78191                 28.0   False                 0.0                  NaN   \n",
      "\n",
      "       Surface area of the plot of land  Number of facades  Swimming pool  \\\n",
      "0                                   NaN                2.0          False   \n",
      "1                                   NaN                2.0          False   \n",
      "2                                 400.0                3.0          False   \n",
      "3                                   NaN                2.0          False   \n",
      "4                                   NaN                2.0          False   \n",
      "...                                 ...                ...            ...   \n",
      "78187                               NaN                NaN          False   \n",
      "78188                               NaN                1.0          False   \n",
      "78189                               NaN                NaN          False   \n",
      "78190                               NaN                4.0          False   \n",
      "78191                               NaN                2.0          False   \n",
      "\n",
      "       State of the building  zipcode         type  \n",
      "0          \\nExcellentétat\\n     4020       Studio  \n",
      "1                    \\nBon\\n     3200  Appartement  \n",
      "2                    \\nBon\\n     7020       Maison  \n",
      "3                    \\nBon\\n     6900  Appartement  \n",
      "4                        NaN     1470  Appartement  \n",
      "...                      ...      ...          ...  \n",
      "78187      \\nExcellentétat\\n     3550  Appartement  \n",
      "78188      \\nExcellentétat\\n     4000  Appartement  \n",
      "78189                    NaN     9000  Appartement  \n",
      "78190  \\nFraîchementrénové\\n     4052     Bungalow  \n",
      "78191      \\nExcellentétat\\n     1030       Duplex  \n",
      "\n",
      "[78192 rows x 20 columns]\n"
     ]
    }
   ],
   "source": [
    "# Remove duplicates\n",
    "data = data.drop_duplicates()\n",
    "print(data)"
   ]
  },
  {
   "cell_type": "code",
   "execution_count": 79,
   "metadata": {},
   "outputs": [
    {
     "name": "stdout",
     "output_type": "stream",
     "text": [
      "       Unnamed: 0 To rent To sell     Price  Number of rooms  Living Area  \\\n",
      "0         1610665    True   False     485.0              1.0         40.0   \n",
      "1         2718948    True   False     790.0              2.0        140.0   \n",
      "2         3229637    True   False     900.0              3.0        103.0   \n",
      "3         3860205    True   False     520.0              2.0         50.0   \n",
      "4         4141598    True   False     760.0              1.0         55.0   \n",
      "...           ...     ...     ...       ...              ...          ...   \n",
      "78187    10316113   False    True  349000.0              4.0          NaN   \n",
      "78188    10316130    True   False     590.0              1.0          NaN   \n",
      "78189    10316135    True   False     595.0              1.0          NaN   \n",
      "78190    10316134    True   False    1150.0              3.0        800.0   \n",
      "78191    10316136    True   False    1590.0              3.0        100.0   \n",
      "\n",
      "      Fully equipped kitchen Furnished  Open fire  Terrace  \\\n",
      "0                       True     False      False    False   \n",
      "1                       True     False      False    False   \n",
      "2                        NaN     False      False    False   \n",
      "3                       True     False      False    False   \n",
      "4                       True       NaN      False     True   \n",
      "...                      ...       ...        ...      ...   \n",
      "78187                    NaN       NaN      False    False   \n",
      "78188                   True       NaN      False    False   \n",
      "78189                    NaN       NaN      False    False   \n",
      "78190                   True     False      False     True   \n",
      "78191                   True     False      False     True   \n",
      "\n",
      "       Area of the terrace  Garden  Area of the garden  Surface of the land  \\\n",
      "0                      0.0   False                 0.0                  NaN   \n",
      "1                      0.0   False                 0.0                  NaN   \n",
      "2                      0.0    True               330.0                400.0   \n",
      "3                      0.0   False                 0.0                  NaN   \n",
      "4                     30.0    True             10000.0                  NaN   \n",
      "...                    ...     ...                 ...                  ...   \n",
      "78187                  0.0    True                 1.0                  NaN   \n",
      "78188                  0.0   False                 0.0                  NaN   \n",
      "78189                  0.0   False                 0.0                  NaN   \n",
      "78190                  1.0    True                 1.0                  NaN   \n",
      "78191                 28.0   False                 0.0                  NaN   \n",
      "\n",
      "       Surface area of the plot of land  Number of facades  Swimming pool  \\\n",
      "0                                   NaN                2.0          False   \n",
      "1                                   NaN                2.0          False   \n",
      "2                                 400.0                3.0          False   \n",
      "3                                   NaN                2.0          False   \n",
      "4                                   NaN                2.0          False   \n",
      "...                                 ...                ...            ...   \n",
      "78187                               NaN                NaN          False   \n",
      "78188                               NaN                1.0          False   \n",
      "78189                               NaN                NaN          False   \n",
      "78190                               NaN                4.0          False   \n",
      "78191                               NaN                2.0          False   \n",
      "\n",
      "      State of the building  zipcode         type  \n",
      "0             Excellentétat     4020       Studio  \n",
      "1                       Bon     3200  Appartement  \n",
      "2                       Bon     7020       Maison  \n",
      "3                       Bon     6900  Appartement  \n",
      "4                       NaN     1470  Appartement  \n",
      "...                     ...      ...          ...  \n",
      "78187         Excellentétat     3550  Appartement  \n",
      "78188         Excellentétat     4000  Appartement  \n",
      "78189                   NaN     9000  Appartement  \n",
      "78190     Fraîchementrénové     4052     Bungalow  \n",
      "78191         Excellentétat     1030       Duplex  \n",
      "\n",
      "[78192 rows x 20 columns]\n"
     ]
    }
   ],
   "source": [
    "#remove white spaces\n",
    "data = data.replace('\\s+', '', regex=True)\n",
    "print(data)"
   ]
  },
  {
   "cell_type": "code",
   "execution_count": 80,
   "metadata": {},
   "outputs": [
    {
     "name": "stdout",
     "output_type": "stream",
     "text": [
      "       Unnamed: 0 To rent To sell     Price  Number of rooms  Living Area  \\\n",
      "8         5701118    True   False     900.0              3.0        170.0   \n",
      "126       9057996    True   False    1100.0              3.0        125.0   \n",
      "131       9090035    True   False    1200.0              3.0        185.0   \n",
      "167       9391563    True   False    5900.0              7.0        700.0   \n",
      "210       9572169    True   False    1980.0              5.0        180.0   \n",
      "...           ...     ...     ...       ...              ...          ...   \n",
      "78105    10316059   False    True  245000.0              5.0        180.0   \n",
      "78112    10316058   False    True  185000.0              3.0        120.0   \n",
      "78121    10316056   False    True  245000.0              5.0        180.0   \n",
      "78144    10238428   False    True  360000.0              4.0        180.0   \n",
      "78158    10316110   False    True  325000.0              2.0        109.0   \n",
      "\n",
      "      Fully equipped kitchen Furnished  Open fire  Terrace  \\\n",
      "8                       True     False      False    False   \n",
      "126                     True     False      False    False   \n",
      "131                     True     False      False     True   \n",
      "167                     True     False      False     True   \n",
      "210                     True      True      False    False   \n",
      "...                      ...       ...        ...      ...   \n",
      "78105                  False     False      False     True   \n",
      "78112                   True     False      False     True   \n",
      "78121                  False     False      False     True   \n",
      "78144                   True      True       True     True   \n",
      "78158                   True     False      False     True   \n",
      "\n",
      "       Area of the terrace  Garden  Area of the garden  Surface of the land  \\\n",
      "8                      0.0   False                 0.0                 50.0   \n",
      "126                    0.0    True                45.0                  1.0   \n",
      "131                   10.0   False                 0.0                360.0   \n",
      "167                   60.0    True              1000.0               1000.0   \n",
      "210                    0.0   False                 0.0                 60.0   \n",
      "...                    ...     ...                 ...                  ...   \n",
      "78105                 29.0    True                75.0                155.0   \n",
      "78112                 40.0    True                80.0                125.0   \n",
      "78121                 29.0    True                75.0                155.0   \n",
      "78144                 16.0    True               200.0                665.0   \n",
      "78158                 37.0   False                 0.0               2183.0   \n",
      "\n",
      "       Surface area of the plot of land  Number of facades  Swimming pool  \\\n",
      "8                                  50.0                2.0          False   \n",
      "126                                 1.0                3.0          False   \n",
      "131                               360.0                2.0          False   \n",
      "167                              1000.0                4.0          False   \n",
      "210                                60.0                2.0          False   \n",
      "...                                 ...                ...            ...   \n",
      "78105                             155.0                2.0          False   \n",
      "78112                             125.0                2.0          False   \n",
      "78121                             155.0                2.0          False   \n",
      "78144                             665.0                4.0          False   \n",
      "78158                            2183.0                4.0           True   \n",
      "\n",
      "      State of the building  zipcode      type  \n",
      "8                       Bon     1400    Maison  \n",
      "126           Excellentétat     4020    Maison  \n",
      "131                     Bon     3300    Maison  \n",
      "167                     Bon     1410    Maison  \n",
      "210           Excellentétat     3000    Maison  \n",
      "...                     ...      ...       ...  \n",
      "78105           Àrafraîchir     4000  Immeuble  \n",
      "78112                   Bon     4000    Maison  \n",
      "78121           Àrafraîchir     4000    Maison  \n",
      "78144                   Bon     2300     Villa  \n",
      "78158                   Bon     9500  Bungalow  \n",
      "\n",
      "[6574 rows x 20 columns]\n"
     ]
    }
   ],
   "source": [
    "#remove all the errors\n",
    "data = data.dropna()\n",
    "print(data)"
   ]
  },
  {
   "attachments": {},
   "cell_type": "markdown",
   "metadata": {},
   "source": [
    "Data Analysis"
   ]
  },
  {
   "cell_type": "code",
   "execution_count": 81,
   "metadata": {},
   "outputs": [
    {
     "name": "stdout",
     "output_type": "stream",
     "text": [
      "(6574, 20)\n"
     ]
    }
   ],
   "source": [
    "# row and columns\n",
    "print(data.shape)"
   ]
  },
  {
   "cell_type": "code",
   "execution_count": 82,
   "metadata": {},
   "outputs": [
    {
     "name": "stdout",
     "output_type": "stream",
     "text": [
      "Unnamed: 0                          0.035284\n",
      "Price                               1.000000\n",
      "Number of rooms                     0.164824\n",
      "Living Area                         0.087490\n",
      "Open fire                           0.090756\n",
      "Terrace                             0.062777\n",
      "Area of the terrace                 0.059915\n",
      "Garden                              0.056397\n",
      "Area of the garden                 -0.022983\n",
      "Surface of the land                -0.027558\n",
      "Surface area of the plot of land   -0.027558\n",
      "Number of facades                   0.183160\n",
      "Swimming pool                       0.066521\n",
      "zipcode                            -0.123268\n",
      "Name: Price, dtype: float64\n"
     ]
    }
   ],
   "source": [
    "#correlation between price and other variables\n",
    "correlations = data.corr(numeric_only=True)['Price']\n",
    "print(correlations)"
   ]
  },
  {
   "cell_type": "code",
   "execution_count": 83,
   "metadata": {},
   "outputs": [
    {
     "name": "stdout",
     "output_type": "stream",
     "text": [
      "                                  Unnamed: 0     Price  Number of rooms  \\\n",
      "Unnamed: 0                          1.000000  0.035284        -0.060060   \n",
      "Price                               0.035284  1.000000         0.164824   \n",
      "Number of rooms                    -0.060060  0.164824         1.000000   \n",
      "Living Area                        -0.091395  0.087490         0.468129   \n",
      "Open fire                          -0.020452  0.090756         0.077508   \n",
      "Terrace                            -0.016156  0.062777         0.037701   \n",
      "Area of the terrace                -0.021624  0.059915         0.139967   \n",
      "Garden                              0.023089  0.056397         0.031952   \n",
      "Area of the garden                 -0.021138 -0.022983         0.141204   \n",
      "Surface of the land                -0.043351 -0.027558         0.094974   \n",
      "Surface area of the plot of land   -0.043351 -0.027558         0.094974   \n",
      "Number of facades                  -0.006288  0.183160         0.122345   \n",
      "Swimming pool                      -0.016176  0.066521         0.112650   \n",
      "zipcode                            -0.027666 -0.123268        -0.102534   \n",
      "\n",
      "                                  Living Area  Open fire   Terrace  \\\n",
      "Unnamed: 0                          -0.091395  -0.020452 -0.016156   \n",
      "Price                                0.087490   0.090756  0.062777   \n",
      "Number of rooms                      0.468129   0.077508  0.037701   \n",
      "Living Area                          1.000000   0.124670  0.004409   \n",
      "Open fire                            0.124670   1.000000  0.014283   \n",
      "Terrace                              0.004409   0.014283  1.000000   \n",
      "Area of the terrace                  0.147960   0.043620  0.432735   \n",
      "Garden                               0.000951   0.036942  0.328691   \n",
      "Area of the garden                   0.140157   0.046844  0.044054   \n",
      "Surface of the land                  0.175447   0.090124 -0.007317   \n",
      "Surface area of the plot of land     0.175447   0.090124 -0.007317   \n",
      "Number of facades                    0.179864   0.166463  0.025280   \n",
      "Swimming pool                        0.179730   0.064713  0.096678   \n",
      "zipcode                             -0.074389  -0.028010 -0.132806   \n",
      "\n",
      "                                  Area of the terrace    Garden  \\\n",
      "Unnamed: 0                                  -0.021624  0.023089   \n",
      "Price                                        0.059915  0.056397   \n",
      "Number of rooms                              0.139967  0.031952   \n",
      "Living Area                                  0.147960  0.000951   \n",
      "Open fire                                    0.043620  0.036942   \n",
      "Terrace                                      0.432735  0.328691   \n",
      "Area of the terrace                          1.000000  0.179114   \n",
      "Garden                                       0.179114  1.000000   \n",
      "Area of the garden                           0.127958  0.084958   \n",
      "Surface of the land                          0.061696 -0.016111   \n",
      "Surface area of the plot of land             0.061696 -0.016111   \n",
      "Number of facades                            0.156329  0.087525   \n",
      "Swimming pool                                0.193352  0.061084   \n",
      "zipcode                                     -0.045236 -0.073196   \n",
      "\n",
      "                                  Area of the garden  Surface of the land  \\\n",
      "Unnamed: 0                                 -0.021138            -0.043351   \n",
      "Price                                      -0.022983            -0.027558   \n",
      "Number of rooms                             0.141204             0.094974   \n",
      "Living Area                                 0.140157             0.175447   \n",
      "Open fire                                   0.046844             0.090124   \n",
      "Terrace                                     0.044054            -0.007317   \n",
      "Area of the terrace                         0.127958             0.061696   \n",
      "Garden                                      0.084958            -0.016111   \n",
      "Area of the garden                          1.000000             0.219057   \n",
      "Surface of the land                         0.219057             1.000000   \n",
      "Surface area of the plot of land            0.219057             1.000000   \n",
      "Number of facades                           0.089855             0.100578   \n",
      "Swimming pool                               0.106872             0.057493   \n",
      "zipcode                                    -0.015881            -0.002445   \n",
      "\n",
      "                                  Surface area of the plot of land  \\\n",
      "Unnamed: 0                                               -0.043351   \n",
      "Price                                                    -0.027558   \n",
      "Number of rooms                                           0.094974   \n",
      "Living Area                                               0.175447   \n",
      "Open fire                                                 0.090124   \n",
      "Terrace                                                  -0.007317   \n",
      "Area of the terrace                                       0.061696   \n",
      "Garden                                                   -0.016111   \n",
      "Area of the garden                                        0.219057   \n",
      "Surface of the land                                       1.000000   \n",
      "Surface area of the plot of land                          1.000000   \n",
      "Number of facades                                         0.100578   \n",
      "Swimming pool                                             0.057493   \n",
      "zipcode                                                  -0.002445   \n",
      "\n",
      "                                  Number of facades  Swimming pool   zipcode  \n",
      "Unnamed: 0                                -0.006288      -0.016176 -0.027666  \n",
      "Price                                      0.183160       0.066521 -0.123268  \n",
      "Number of rooms                            0.122345       0.112650 -0.102534  \n",
      "Living Area                                0.179864       0.179730 -0.074389  \n",
      "Open fire                                  0.166463       0.064713 -0.028010  \n",
      "Terrace                                    0.025280       0.096678 -0.132806  \n",
      "Area of the terrace                        0.156329       0.193352 -0.045236  \n",
      "Garden                                     0.087525       0.061084 -0.073196  \n",
      "Area of the garden                         0.089855       0.106872 -0.015881  \n",
      "Surface of the land                        0.100578       0.057493 -0.002445  \n",
      "Surface area of the plot of land           0.100578       0.057493 -0.002445  \n",
      "Number of facades                          1.000000       0.180511 -0.026388  \n",
      "Swimming pool                              0.180511       1.000000 -0.061760  \n",
      "zipcode                                   -0.026388      -0.061760  1.000000  \n"
     ]
    }
   ],
   "source": [
    "#correlation of the variables\n",
    "corr= data.corr(numeric_only=True)\n",
    "# Print the correlation matrix\n",
    "print(corr)"
   ]
  },
  {
   "cell_type": "code",
   "execution_count": 84,
   "metadata": {},
   "outputs": [
    {
     "name": "stdout",
     "output_type": "stream",
     "text": [
      "Number of quantitative variables: 10\n",
      "Number of qualitative variables: 10\n"
     ]
    }
   ],
   "source": [
    "# qualitative and quantitative variables and change into numeric value\n",
    "quant_vars = data.select_dtypes(include=['float64', 'int64'])\n",
    "qual_vars = data.select_dtypes(exclude=['float64', 'int64'])\n",
    "print(f'Number of quantitative variables: {quant_vars.shape[1]}')\n",
    "print(f'Number of qualitative variables: {qual_vars.shape[1]}')"
   ]
  },
  {
   "cell_type": "code",
   "execution_count": 85,
   "metadata": {},
   "outputs": [
    {
     "name": "stdout",
     "output_type": "stream",
     "text": [
      "Unnamed: 0                          0.0\n",
      "To rent                             0.0\n",
      "To sell                             0.0\n",
      "Price                               0.0\n",
      "Number of rooms                     0.0\n",
      "Living Area                         0.0\n",
      "Fully equipped kitchen              0.0\n",
      "Furnished                           0.0\n",
      "Open fire                           0.0\n",
      "Terrace                             0.0\n",
      "Area of the terrace                 0.0\n",
      "Garden                              0.0\n",
      "Area of the garden                  0.0\n",
      "Surface of the land                 0.0\n",
      "Surface area of the plot of land    0.0\n",
      "Number of facades                   0.0\n",
      "Swimming pool                       0.0\n",
      "State of the building               0.0\n",
      "zipcode                             0.0\n",
      "type                                0.0\n",
      "dtype: float64\n"
     ]
    }
   ],
   "source": [
    "#missing values\n",
    "missing_values = data.isna().mean() * 100\n",
    "print(missing_values)"
   ]
  },
  {
   "attachments": {},
   "cell_type": "markdown",
   "metadata": {},
   "source": [
    "Data visualization"
   ]
  },
  {
   "cell_type": "code",
   "execution_count": 86,
   "metadata": {},
   "outputs": [
    {
     "name": "stdout",
     "output_type": "stream",
     "text": [
      "Average price:  311845.9815941588\n"
     ]
    }
   ],
   "source": [
    "# Calculate average price\n",
    "average_price = data['Price'].mean()\n",
    "print(\"Average price: \", average_price)\n"
   ]
  },
  {
   "cell_type": "code",
   "execution_count": 87,
   "metadata": {},
   "outputs": [
    {
     "name": "stdout",
     "output_type": "stream",
     "text": [
      "Median price:  285000.0\n"
     ]
    }
   ],
   "source": [
    "# Calculate median price\n",
    "median_price = data['Price'].median()\n",
    "print(\"Median price: \", median_price)"
   ]
  },
  {
   "cell_type": "code",
   "execution_count": 88,
   "metadata": {},
   "outputs": [
    {
     "name": "stdout",
     "output_type": "stream",
     "text": [
      "Price per square meter:  8          18.000000\n",
      "126      1100.000000\n",
      "131         3.333333\n",
      "167         5.900000\n",
      "210        33.000000\n",
      "            ...     \n",
      "78105    1580.645161\n",
      "78112    1480.000000\n",
      "78121    1580.645161\n",
      "78144     541.353383\n",
      "78158     148.877691\n",
      "Name: price_per_sq_m, Length: 6574, dtype: float64\n"
     ]
    }
   ],
   "source": [
    "# Calculate price per square meter\n",
    "data['price_per_sq_m'] = data['Price'] / data['Surface of the land']\n",
    "print(\"Price per square meter: \", data['price_per_sq_m'])"
   ]
  },
  {
   "cell_type": "code",
   "execution_count": 89,
   "metadata": {},
   "outputs": [
    {
     "name": "stdout",
     "output_type": "stream",
     "text": [
      "8        Brussels\n",
      "126      Wallonia\n",
      "131      Flanders\n",
      "167      Brussels\n",
      "210      Flanders\n",
      "           ...   \n",
      "78105    Wallonia\n",
      "78112    Wallonia\n",
      "78121    Wallonia\n",
      "78144    Flanders\n",
      "78158    Flanders\n",
      "Name: zipcode, Length: 6574, dtype: object\n",
      "       Unnamed: 0 To rent To sell     Price  Number of rooms  Living Area  \\\n",
      "8         5701118    True   False     900.0              3.0        170.0   \n",
      "126       9057996    True   False    1100.0              3.0        125.0   \n",
      "131       9090035    True   False    1200.0              3.0        185.0   \n",
      "167       9391563    True   False    5900.0              7.0        700.0   \n",
      "210       9572169    True   False    1980.0              5.0        180.0   \n",
      "...           ...     ...     ...       ...              ...          ...   \n",
      "78105    10316059   False    True  245000.0              5.0        180.0   \n",
      "78112    10316058   False    True  185000.0              3.0        120.0   \n",
      "78121    10316056   False    True  245000.0              5.0        180.0   \n",
      "78144    10238428   False    True  360000.0              4.0        180.0   \n",
      "78158    10316110   False    True  325000.0              2.0        109.0   \n",
      "\n",
      "      Fully equipped kitchen Furnished  Open fire  Terrace  ...  \\\n",
      "8                       True     False      False    False  ...   \n",
      "126                     True     False      False    False  ...   \n",
      "131                     True     False      False     True  ...   \n",
      "167                     True     False      False     True  ...   \n",
      "210                     True      True      False    False  ...   \n",
      "...                      ...       ...        ...      ...  ...   \n",
      "78105                  False     False      False     True  ...   \n",
      "78112                   True     False      False     True  ...   \n",
      "78121                  False     False      False     True  ...   \n",
      "78144                   True      True       True     True  ...   \n",
      "78158                   True     False      False     True  ...   \n",
      "\n",
      "       Area of the garden  Surface of the land  \\\n",
      "8                     0.0                 50.0   \n",
      "126                  45.0                  1.0   \n",
      "131                   0.0                360.0   \n",
      "167                1000.0               1000.0   \n",
      "210                   0.0                 60.0   \n",
      "...                   ...                  ...   \n",
      "78105                75.0                155.0   \n",
      "78112                80.0                125.0   \n",
      "78121                75.0                155.0   \n",
      "78144               200.0                665.0   \n",
      "78158                 0.0               2183.0   \n",
      "\n",
      "       Surface area of the plot of land  Number of facades  Swimming pool  \\\n",
      "8                                  50.0                2.0          False   \n",
      "126                                 1.0                3.0          False   \n",
      "131                               360.0                2.0          False   \n",
      "167                              1000.0                4.0          False   \n",
      "210                                60.0                2.0          False   \n",
      "...                                 ...                ...            ...   \n",
      "78105                             155.0                2.0          False   \n",
      "78112                             125.0                2.0          False   \n",
      "78121                             155.0                2.0          False   \n",
      "78144                             665.0                4.0          False   \n",
      "78158                            2183.0                4.0           True   \n",
      "\n",
      "       State of the building  zipcode      type price_per_sq_m    region  \n",
      "8                        Bon     1400    Maison      18.000000  Brussels  \n",
      "126            Excellentétat     4020    Maison    1100.000000  Wallonia  \n",
      "131                      Bon     3300    Maison       3.333333  Flanders  \n",
      "167                      Bon     1410    Maison       5.900000  Brussels  \n",
      "210            Excellentétat     3000    Maison      33.000000  Flanders  \n",
      "...                      ...      ...       ...            ...       ...  \n",
      "78105            Àrafraîchir     4000  Immeuble    1580.645161  Wallonia  \n",
      "78112                    Bon     4000    Maison    1480.000000  Wallonia  \n",
      "78121            Àrafraîchir     4000    Maison    1580.645161  Wallonia  \n",
      "78144                    Bon     2300     Villa     541.353383  Flanders  \n",
      "78158                    Bon     9500  Bungalow     148.877691  Flanders  \n",
      "\n",
      "[6574 rows x 22 columns]\n"
     ]
    },
    {
     "name": "stderr",
     "output_type": "stream",
     "text": [
      "C:\\Users\\Gebruiker\\AppData\\Local\\Temp\\ipykernel_34176\\914350088.py:9: FutureWarning: In a future version, object-dtype columns with all-bool values will not be included in reductions with bool_only=True. Explicitly cast to bool dtype instead.\n",
      "  print(data)\n"
     ]
    }
   ],
   "source": [
    "data[\"zipcode\"] = data[\"zipcode\"].astype(str)\n",
    "\n",
    "# Create a new column named 'region' in the dataframe\n",
    "df = data[\"region\"] = \"\"\n",
    "# Use the apply() function to iterate over the 'zipcode' column\n",
    "df = data[\"region\"] = data[\"zipcode\"].apply(lambda x: \"Flanders\" if x.startswith((\"2\", \"3\", \"9\")) else (\n",
    "        \"Wallonia\" if x.startswith((\"4\", \"5\", \"6\", \"7\")) else \"Brussels\" if x.startswith((\"1\", \"8\")) else \"\"))\n",
    "print(df)\n",
    "print(data)"
   ]
  },
  {
   "cell_type": "code",
   "execution_count": 90,
   "metadata": {},
   "outputs": [],
   "source": [
    "  # Dropna based on Price column\n",
    "data = data.dropna(subset=['Price'])\n",
    "    # Dropna based on region column\n",
    "data = data.dropna(subset=['region'])"
   ]
  },
  {
   "cell_type": "code",
   "execution_count": 112,
   "metadata": {},
   "outputs": [
    {
     "name": "stdout",
     "output_type": "stream",
     "text": [
      "Brussels:\n",
      "Average price:  349352.9470480828\n",
      "Median price:  340000.0\n",
      "Price per square meter:  1649.2460075003382\n",
      "Wallonia:\n",
      "Average price:  259172.1450777202\n",
      "Median price:  229000.0\n",
      "Price per square meter:  1069.3644149311706\n",
      "Flanders:\n",
      "Average price:  348050.8995065052\n",
      "Median price:  335000.0\n",
      "Price per square meter:  1528.0188034956877\n"
     ]
    }
   ],
   "source": [
    " # Filter data based on the region column\n",
    "df_brussels = data[data['region'] == 'Brussels']\n",
    "df_wallonia = data[data['region'] == 'Wallonia']\n",
    "df_flanders = data[data['region'] == 'Flanders']\n",
    "\n",
    "# Compute average price, median price, and price per square meter for each region\n",
    "average_price_brussels = df_brussels['Price'].mean()\n",
    "median_price_brussels = df_brussels['Price'].median()\n",
    "price_per_sqm_brussels = df_brussels['Price'] / df_brussels['Surface of the land']\n",
    "\n",
    "average_price_wallonia = df_wallonia['Price'].mean()\n",
    "median_price_wallonia = df_wallonia['Price'].median()\n",
    "price_per_sqm_wallonia = df_wallonia['Price'] / df_wallonia['Surface of the land']\n",
    "\n",
    "average_price_flanders = df_flanders['Price'].mean()\n",
    "median_price_flanders = df_flanders['Price'].median()\n",
    "price_per_sqm_flanders = df_flanders['Price'] / df_flanders['Surface of the land']\n",
    "\n",
    "# Print the results\n",
    "print(\"Brussels:\")\n",
    "print(\"Average price: \", average_price_brussels)\n",
    "print(\"Median price: \", median_price_brussels)\n",
    "print(\"Price per square meter: \", price_per_sqm_brussels.mean())\n",
    "\n",
    "print(\"Wallonia:\")\n",
    "print(\"Average price: \", average_price_wallonia)\n",
    "print(\"Median price: \", median_price_wallonia)\n",
    "print(\"Price per square meter: \", price_per_sqm_wallonia.mean())\n",
    "\n",
    "print(\"Flanders:\")\n",
    "print(\"Average price: \", average_price_flanders)\n",
    "print(\"Median price: \", median_price_flanders)\n",
    "print(\"Price per square meter: \", price_per_sqm_flanders.mean())\n"
   ]
  },
  {
   "cell_type": "code",
   "execution_count": 110,
   "metadata": {},
   "outputs": [
    {
     "name": "stdout",
     "output_type": "stream",
     "text": [
      "                Price\n",
      "mean    259172.145078\n",
      "median  229000.000000\n",
      "                Price\n",
      "mean    348050.899507\n",
      "median  335000.000000\n"
     ]
    }
   ],
   "source": [
    "\n"
   ]
  },
  {
   "cell_type": "code",
   "execution_count": 109,
   "metadata": {},
   "outputs": [],
   "source": [
    " # Separate the data into to rent and to sell\n",
    "data_to_sell = data[data['To sell'] == True]\n",
    "data_to_rent = data[data['To sell'] == False]\n"
   ]
  },
  {
   "cell_type": "code",
   "execution_count": null,
   "metadata": {},
   "outputs": [],
   "source": [
    "    # Calculate the median price by region\n",
    "median_prices_to_sell = data_to_sell.groupby('region')['Price'].median()\n",
    "median_prices_to_rent = data_to_rent.groupby('region')['Price'].median()"
   ]
  },
  {
   "cell_type": "code",
   "execution_count": null,
   "metadata": {},
   "outputs": [
    {
     "data": {
      "image/png": "[encoded data removed]",
      "text/plain": [
       "<Figure size 1000x500 with 2 Axes>"
      ]
     },
     "metadata": {},
     "output_type": "display_data"
    }
   ],
   "source": [
    "  # Plot the median price by funished with sns in subplots\n",
    "fig, ax = plt.subplots(1, 2, figsize=(10, 5))\n",
    "sns.barplot(x=median_prices_to_sell.index,\n",
    "                y=median_prices_to_sell.values, ax=ax[0])\n",
    "sns.barplot(x=median_prices_to_rent.index,\n",
    "                y=median_prices_to_rent.values, ax=ax[1])\n",
    "# set y axis label\n",
    "ax[0].set_ylabel('Price in euros')\n",
    "ax[1].set_ylabel('Price in euros')\n",
    "    # set x axis label\n",
    "ax[0].set_xlabel('region')\n",
    "ax[1].set_xlabel('region')\n",
    "    # set title\n",
    "ax[0].set_title('Median price by location for sell')\n",
    "ax[1].set_title('Median price by location for rent')\n",
    "plt.show()"
   ]
  },
  {
   "cell_type": "code",
   "execution_count": null,
   "metadata": {},
   "outputs": [],
   "source": [
    "## graph based on the furniture\n",
    "# Calculate the median price by funished\n",
    "median_prices_to_sell = data_to_sell.groupby('region')['Price'].median()\n",
    "median_prices_to_rent = data_to_rent.groupby('region')['Price'].median()"
   ]
  },
  {
   "cell_type": "code",
   "execution_count": null,
   "metadata": {},
   "outputs": [],
   "source": [
    "# Separate the data into to rent and to sell\n",
    "data_to_sell = data[data['To sell'] == True]\n",
    "data_to_rent = data[data['To sell'] == False]"
   ]
  },
  {
   "cell_type": "code",
   "execution_count": null,
   "metadata": {},
   "outputs": [],
   "source": [
    "median_prices_to_sell = data_to_sell.groupby('Furnished')['Price'].median()\n",
    "median_prices_to_rent = data_to_rent.groupby('Furnished')['Price'].median()\n"
   ]
  },
  {
   "cell_type": "code",
   "execution_count": null,
   "metadata": {},
   "outputs": [
    {
     "data": {
      "image/png": "[encoded data removed]",
      "text/plain": [
       "<Figure size 1000x500 with 2 Axes>"
      ]
     },
     "metadata": {},
     "output_type": "display_data"
    }
   ],
   "source": [
    " # Plot the median price by funished with sns in subplots\n",
    "fig, ax = plt.subplots(1, 2, figsize=(10, 5))\n",
    "sns.barplot(x=median_prices_to_sell.index,\n",
    "                y=median_prices_to_sell.values, ax=ax[0])\n",
    "sns.barplot(x=median_prices_to_rent.index,\n",
    "                y=median_prices_to_rent.values, ax=ax[1])\n",
    "    # set y axis label\n",
    "ax[0].set_ylabel('Price in euros')\n",
    "ax[1].set_ylabel('Price in euros')\n",
    "    # set x axis label\n",
    "ax[0].set_xlabel('Furnished')\n",
    "ax[1].set_xlabel('Furnished')\n",
    "    # set title\n",
    "ax[0].set_title('Median price by furnished to sell')\n",
    "ax[1].set_title('Median price by furnished to rent')\n",
    "plt.show()"
   ]
  }
 ],
 "metadata": {
  "kernelspec": {
   "display_name": "Python 3",
   "language": "python",
   "name": "python3"
  },
  "language_info": {
   "codemirror_mode": {
    "name": "ipython",
    "version": 3
   },
   "file_extension": ".py",
   "mimetype": "text/x-python",
   "name": "python",
   "nbconvert_exporter": "python",
   "pygments_lexer": "ipython3",
   "version": "3.11.0"
  },
  "orig_nbformat": 4,
  "vscode": {
   "interpreter": {
    "hash": "9dedff83ea22ac1e78a09bf9ceaf8b04075e75f42a22f8959ff6e9562589b439"
   }
  }
 },
 "nbformat": 4,
 "nbformat_minor": 2
}
