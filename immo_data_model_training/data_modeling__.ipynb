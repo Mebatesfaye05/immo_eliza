{
 "cells": [
  {
   "cell_type": "code",
   "execution_count": 234,
   "metadata": {},
   "outputs": [],
   "source": [
    "#import \n",
    "import numpy as np\n",
    "import pandas as pd\n",
    "from sklearn.preprocessing import StandardScaler\n",
    "from sklearn.ensemble import RandomForestRegressor\n",
    "from sklearn.model_selection import train_test_split\n",
    "from sklearn.feature_selection import SelectFromModel"
   ]
  },
  {
   "cell_type": "code",
   "execution_count": 235,
   "metadata": {},
   "outputs": [
    {
     "name": "stdout",
     "output_type": "stream",
     "text": [
      "       Unnamed: 0 To rent To sell     Price  Number of rooms  Living Area  \\\n",
      "0         1610665    True   False     485.0              1.0         40.0   \n",
      "1         2718948    True   False     790.0              2.0        140.0   \n",
      "2         3229637    True   False     900.0              3.0        103.0   \n",
      "3         3860205    True   False     520.0              2.0         50.0   \n",
      "4         4141598    True   False     760.0              1.0         55.0   \n",
      "...           ...     ...     ...       ...              ...          ...   \n",
      "78187    10316113   False    True  349000.0              4.0          NaN   \n",
      "78188    10316130    True   False     590.0              1.0          NaN   \n",
      "78189    10316135    True   False     595.0              1.0          NaN   \n",
      "78190    10316134    True   False    1150.0              3.0        800.0   \n",
      "78191    10316136    True   False    1590.0              3.0        100.0   \n",
      "\n",
      "      Fully equipped kitchen Furnished  Open fire  Terrace  \\\n",
      "0                       True     False      False    False   \n",
      "1                       True     False      False    False   \n",
      "2                        NaN     False      False    False   \n",
      "3                       True     False      False    False   \n",
      "4                       True       NaN      False     True   \n",
      "...                      ...       ...        ...      ...   \n",
      "78187                    NaN       NaN      False    False   \n",
      "78188                   True       NaN      False    False   \n",
      "78189                    NaN       NaN      False    False   \n",
      "78190                   True     False      False     True   \n",
      "78191                   True     False      False     True   \n",
      "\n",
      "       Area of the terrace  Garden  Area of the garden  Surface of the land  \\\n",
      "0                      0.0   False                 0.0                  NaN   \n",
      "1                      0.0   False                 0.0                  NaN   \n",
      "2                      0.0    True               330.0                400.0   \n",
      "3                      0.0   False                 0.0                  NaN   \n",
      "4                     30.0    True             10000.0                  NaN   \n",
      "...                    ...     ...                 ...                  ...   \n",
      "78187                  0.0    True                 1.0                  NaN   \n",
      "78188                  0.0   False                 0.0                  NaN   \n",
      "78189                  0.0   False                 0.0                  NaN   \n",
      "78190                  1.0    True                 1.0                  NaN   \n",
      "78191                 28.0   False                 0.0                  NaN   \n",
      "\n",
      "       Surface area of the plot of land  Number of facades  Swimming pool  \\\n",
      "0                                   NaN                2.0          False   \n",
      "1                                   NaN                2.0          False   \n",
      "2                                 400.0                3.0          False   \n",
      "3                                   NaN                2.0          False   \n",
      "4                                   NaN                2.0          False   \n",
      "...                                 ...                ...            ...   \n",
      "78187                               NaN                NaN          False   \n",
      "78188                               NaN                1.0          False   \n",
      "78189                               NaN                NaN          False   \n",
      "78190                               NaN                4.0          False   \n",
      "78191                               NaN                2.0          False   \n",
      "\n",
      "       State of the building  zipcode         type  \n",
      "0          \\nExcellentétat\\n     4020       Studio  \n",
      "1                    \\nBon\\n     3200  Appartement  \n",
      "2                    \\nBon\\n     7020       Maison  \n",
      "3                    \\nBon\\n     6900  Appartement  \n",
      "4                        NaN     1470  Appartement  \n",
      "...                      ...      ...          ...  \n",
      "78187      \\nExcellentétat\\n     3550  Appartement  \n",
      "78188      \\nExcellentétat\\n     4000  Appartement  \n",
      "78189                    NaN     9000  Appartement  \n",
      "78190  \\nFraîchementrénové\\n     4052     Bungalow  \n",
      "78191      \\nExcellentétat\\n     1030       Duplex  \n",
      "\n",
      "[78192 rows x 20 columns]\n"
     ]
    }
   ],
   "source": [
    "# Read the csv file\n",
    "data_file = r'C:\\Users\\Gebruiker\\Downloads\\data_a.csv'\n",
    "data = pd.read_csv(data_file)\n",
    "print(data)"
   ]
  },
  {
   "cell_type": "code",
   "execution_count": 236,
   "metadata": {},
   "outputs": [
    {
     "name": "stdout",
     "output_type": "stream",
     "text": [
      "       Unnamed: 0 To rent To sell     Price  Number of rooms  Living Area  \\\n",
      "8         5701118    True   False     900.0              3.0        170.0   \n",
      "126       9057996    True   False    1100.0              3.0        125.0   \n",
      "131       9090035    True   False    1200.0              3.0        185.0   \n",
      "167       9391563    True   False    5900.0              7.0        700.0   \n",
      "210       9572169    True   False    1980.0              5.0        180.0   \n",
      "...           ...     ...     ...       ...              ...          ...   \n",
      "78105    10316059   False    True  245000.0              5.0        180.0   \n",
      "78112    10316058   False    True  185000.0              3.0        120.0   \n",
      "78121    10316056   False    True  245000.0              5.0        180.0   \n",
      "78144    10238428   False    True  360000.0              4.0        180.0   \n",
      "78158    10316110   False    True  325000.0              2.0        109.0   \n",
      "\n",
      "      Fully equipped kitchen Furnished  Open fire  Terrace  \\\n",
      "8                       True     False      False    False   \n",
      "126                     True     False      False    False   \n",
      "131                     True     False      False     True   \n",
      "167                     True     False      False     True   \n",
      "210                     True      True      False    False   \n",
      "...                      ...       ...        ...      ...   \n",
      "78105                  False     False      False     True   \n",
      "78112                   True     False      False     True   \n",
      "78121                  False     False      False     True   \n",
      "78144                   True      True       True     True   \n",
      "78158                   True     False      False     True   \n",
      "\n",
      "       Area of the terrace  Garden  Area of the garden  Surface of the land  \\\n",
      "8                      0.0   False                 0.0                 50.0   \n",
      "126                    0.0    True                45.0                  1.0   \n",
      "131                   10.0   False                 0.0                360.0   \n",
      "167                   60.0    True              1000.0               1000.0   \n",
      "210                    0.0   False                 0.0                 60.0   \n",
      "...                    ...     ...                 ...                  ...   \n",
      "78105                 29.0    True                75.0                155.0   \n",
      "78112                 40.0    True                80.0                125.0   \n",
      "78121                 29.0    True                75.0                155.0   \n",
      "78144                 16.0    True               200.0                665.0   \n",
      "78158                 37.0   False                 0.0               2183.0   \n",
      "\n",
      "       Surface area of the plot of land  Number of facades  Swimming pool  \\\n",
      "8                                  50.0                2.0          False   \n",
      "126                                 1.0                3.0          False   \n",
      "131                               360.0                2.0          False   \n",
      "167                              1000.0                4.0          False   \n",
      "210                                60.0                2.0          False   \n",
      "...                                 ...                ...            ...   \n",
      "78105                             155.0                2.0          False   \n",
      "78112                             125.0                2.0          False   \n",
      "78121                             155.0                2.0          False   \n",
      "78144                             665.0                4.0          False   \n",
      "78158                            2183.0                4.0           True   \n",
      "\n",
      "      State of the building  zipcode      type  \n",
      "8                   \\nBon\\n     1400    Maison  \n",
      "126       \\nExcellentétat\\n     4020    Maison  \n",
      "131                 \\nBon\\n     3300    Maison  \n",
      "167                 \\nBon\\n     1410    Maison  \n",
      "210       \\nExcellentétat\\n     3000    Maison  \n",
      "...                     ...      ...       ...  \n",
      "78105       \\nÀrafraîchir\\n     4000  Immeuble  \n",
      "78112               \\nBon\\n     4000    Maison  \n",
      "78121       \\nÀrafraîchir\\n     4000    Maison  \n",
      "78144               \\nBon\\n     2300     Villa  \n",
      "78158               \\nBon\\n     9500  Bungalow  \n",
      "\n",
      "[6574 rows x 20 columns]\n"
     ]
    }
   ],
   "source": [
    "# drop rows with missing values\n",
    "data = data.dropna()\n",
    "print(data)\n"
   ]
  },
  {
   "cell_type": "code",
   "execution_count": 237,
   "metadata": {},
   "outputs": [
    {
     "name": "stdout",
     "output_type": "stream",
     "text": [
      "       Unnamed: 0     Price  Number of rooms  Living Area  Open fire  Terrace  \\\n",
      "8         5701118     900.0              3.0        170.0      False    False   \n",
      "126       9057996    1100.0              3.0        125.0      False    False   \n",
      "131       9090035    1200.0              3.0        185.0      False     True   \n",
      "167       9391563    5900.0              7.0        700.0      False     True   \n",
      "210       9572169    1980.0              5.0        180.0      False    False   \n",
      "...           ...       ...              ...          ...        ...      ...   \n",
      "78105    10316059  245000.0              5.0        180.0      False     True   \n",
      "78112    10316058  185000.0              3.0        120.0      False     True   \n",
      "78121    10316056  245000.0              5.0        180.0      False     True   \n",
      "78144    10238428  360000.0              4.0        180.0       True     True   \n",
      "78158    10316110  325000.0              2.0        109.0      False     True   \n",
      "\n",
      "       Area of the terrace  Garden  Area of the garden  Surface of the land  \\\n",
      "8                      0.0   False                 0.0                 50.0   \n",
      "126                    0.0    True                45.0                  1.0   \n",
      "131                   10.0   False                 0.0                360.0   \n",
      "167                   60.0    True              1000.0               1000.0   \n",
      "210                    0.0   False                 0.0                 60.0   \n",
      "...                    ...     ...                 ...                  ...   \n",
      "78105                 29.0    True                75.0                155.0   \n",
      "78112                 40.0    True                80.0                125.0   \n",
      "78121                 29.0    True                75.0                155.0   \n",
      "78144                 16.0    True               200.0                665.0   \n",
      "78158                 37.0   False                 0.0               2183.0   \n",
      "\n",
      "       Surface area of the plot of land  Number of facades  Swimming pool  \\\n",
      "8                                  50.0                2.0          False   \n",
      "126                                 1.0                3.0          False   \n",
      "131                               360.0                2.0          False   \n",
      "167                              1000.0                4.0          False   \n",
      "210                                60.0                2.0          False   \n",
      "...                                 ...                ...            ...   \n",
      "78105                             155.0                2.0          False   \n",
      "78112                             125.0                2.0          False   \n",
      "78121                             155.0                2.0          False   \n",
      "78144                             665.0                4.0          False   \n",
      "78158                            2183.0                4.0           True   \n",
      "\n",
      "       zipcode  \n",
      "8         1400  \n",
      "126       4020  \n",
      "131       3300  \n",
      "167       1410  \n",
      "210       3000  \n",
      "...        ...  \n",
      "78105     4000  \n",
      "78112     4000  \n",
      "78121     4000  \n",
      "78144     2300  \n",
      "78158     9500  \n",
      "\n",
      "[6574 rows x 14 columns]\n"
     ]
    }
   ],
   "source": [
    "# select only numeric columns\n",
    "data = data.select_dtypes(exclude='object')\n",
    "print(data)"
   ]
  },
  {
   "cell_type": "code",
   "execution_count": 238,
   "metadata": {},
   "outputs": [
    {
     "name": "stdout",
     "output_type": "stream",
     "text": [
      "          Price  Number of rooms  Living Area  Terrace  Area of the terrace  \\\n",
      "8         900.0              3.0        170.0    False                  0.0   \n",
      "126      1100.0              3.0        125.0    False                  0.0   \n",
      "131      1200.0              3.0        185.0     True                 10.0   \n",
      "167      5900.0              7.0        700.0     True                 60.0   \n",
      "210      1980.0              5.0        180.0    False                  0.0   \n",
      "...         ...              ...          ...      ...                  ...   \n",
      "78105  245000.0              5.0        180.0     True                 29.0   \n",
      "78112  185000.0              3.0        120.0     True                 40.0   \n",
      "78121  245000.0              5.0        180.0     True                 29.0   \n",
      "78144  360000.0              4.0        180.0     True                 16.0   \n",
      "78158  325000.0              2.0        109.0     True                 37.0   \n",
      "\n",
      "       Garden  Area of the garden  Surface area of the plot of land  \\\n",
      "8       False                 0.0                              50.0   \n",
      "126      True                45.0                               1.0   \n",
      "131     False                 0.0                             360.0   \n",
      "167      True              1000.0                            1000.0   \n",
      "210     False                 0.0                              60.0   \n",
      "...       ...                 ...                               ...   \n",
      "78105    True                75.0                             155.0   \n",
      "78112    True                80.0                             125.0   \n",
      "78121    True                75.0                             155.0   \n",
      "78144    True               200.0                             665.0   \n",
      "78158   False                 0.0                            2183.0   \n",
      "\n",
      "       Number of facades  zipcode  \n",
      "8                    2.0     1400  \n",
      "126                  3.0     4020  \n",
      "131                  2.0     3300  \n",
      "167                  4.0     1410  \n",
      "210                  2.0     3000  \n",
      "...                  ...      ...  \n",
      "78105                2.0     4000  \n",
      "78112                2.0     4000  \n",
      "78121                2.0     4000  \n",
      "78144                4.0     2300  \n",
      "78158                4.0     9500  \n",
      "\n",
      "[6574 rows x 10 columns]\n"
     ]
    }
   ],
   "source": [
    "# drop specified columns\n",
    "columns_to_drop = ['Open fire', 'Unnamed: 0','Surface of the land', 'Swimming pool']\n",
    "data = data.drop(columns=[col for col in columns_to_drop if col in data.columns])\n",
    "print(data)"
   ]
  },
  {
   "cell_type": "code",
   "execution_count": 239,
   "metadata": {},
   "outputs": [
    {
     "name": "stdout",
     "output_type": "stream",
     "text": [
      "                                     Price  Number of rooms  Living Area  \\\n",
      "Price                             1.000000         0.164824     0.087490   \n",
      "Number of rooms                   0.164824         1.000000     0.468129   \n",
      "Living Area                       0.087490         0.468129     1.000000   \n",
      "Terrace                           0.062777         0.037701     0.004409   \n",
      "Area of the terrace               0.059915         0.139967     0.147960   \n",
      "Garden                            0.056397         0.031952     0.000951   \n",
      "Area of the garden               -0.022983         0.141204     0.140157   \n",
      "Surface area of the plot of land -0.027558         0.094974     0.175447   \n",
      "Number of facades                 0.183160         0.122345     0.179864   \n",
      "zipcode                          -0.123268        -0.102534    -0.074389   \n",
      "\n",
      "                                   Terrace  Area of the terrace    Garden  \\\n",
      "Price                             0.062777             0.059915  0.056397   \n",
      "Number of rooms                   0.037701             0.139967  0.031952   \n",
      "Living Area                       0.004409             0.147960  0.000951   \n",
      "Terrace                           1.000000             0.432735  0.328691   \n",
      "Area of the terrace               0.432735             1.000000  0.179114   \n",
      "Garden                            0.328691             0.179114  1.000000   \n",
      "Area of the garden                0.044054             0.127958  0.084958   \n",
      "Surface area of the plot of land -0.007317             0.061696 -0.016111   \n",
      "Number of facades                 0.025280             0.156329  0.087525   \n",
      "zipcode                          -0.132806            -0.045236 -0.073196   \n",
      "\n",
      "                                  Area of the garden  \\\n",
      "Price                                      -0.022983   \n",
      "Number of rooms                             0.141204   \n",
      "Living Area                                 0.140157   \n",
      "Terrace                                     0.044054   \n",
      "Area of the terrace                         0.127958   \n",
      "Garden                                      0.084958   \n",
      "Area of the garden                          1.000000   \n",
      "Surface area of the plot of land            0.219057   \n",
      "Number of facades                           0.089855   \n",
      "zipcode                                    -0.015881   \n",
      "\n",
      "                                  Surface area of the plot of land  \\\n",
      "Price                                                    -0.027558   \n",
      "Number of rooms                                           0.094974   \n",
      "Living Area                                               0.175447   \n",
      "Terrace                                                  -0.007317   \n",
      "Area of the terrace                                       0.061696   \n",
      "Garden                                                   -0.016111   \n",
      "Area of the garden                                        0.219057   \n",
      "Surface area of the plot of land                          1.000000   \n",
      "Number of facades                                         0.100578   \n",
      "zipcode                                                  -0.002445   \n",
      "\n",
      "                                  Number of facades   zipcode  \n",
      "Price                                      0.183160 -0.123268  \n",
      "Number of rooms                            0.122345 -0.102534  \n",
      "Living Area                                0.179864 -0.074389  \n",
      "Terrace                                    0.025280 -0.132806  \n",
      "Area of the terrace                        0.156329 -0.045236  \n",
      "Garden                                     0.087525 -0.073196  \n",
      "Area of the garden                         0.089855 -0.015881  \n",
      "Surface area of the plot of land           0.100578 -0.002445  \n",
      "Number of facades                          1.000000 -0.026388  \n",
      "zipcode                                   -0.026388  1.000000  \n"
     ]
    }
   ],
   "source": [
    "#calculating correlation\n",
    "corr = data.corr()\n",
    "print(corr)\n"
   ]
  },
  {
   "cell_type": "code",
   "execution_count": 240,
   "metadata": {},
   "outputs": [],
   "source": [
    "price = data[\"Price\"]\n",
    "scaler = StandardScaler()\n",
    "data[data.columns] = scaler.fit_transform(data[data.columns])\n",
    "data[\"Price\"] = price"
   ]
  },
  {
   "cell_type": "code",
   "execution_count": 241,
   "metadata": {},
   "outputs": [],
   "source": [
    "# Split data into features and target variable\n",
    "X = data[['Number of rooms','Living Area', 'Terrace', 'Area of the terrace', 'Area of the garden', 'zipcode','Surface area of the plot of land','Number of facades']]\n",
    "y = data['Price']"
   ]
  },
  {
   "cell_type": "code",
   "execution_count": 242,
   "metadata": {},
   "outputs": [],
   "source": [
    "# Split data into training and test sets\n",
    "X_train, X_test, y_train, y_test = train_test_split(\n",
    "    X, y, test_size=0.2)"
   ]
  },
  {
   "cell_type": "code",
   "execution_count": 243,
   "metadata": {},
   "outputs": [
    {
     "data": {
      "text/html": [
       "<style>#sk-container-id-16 {color: black;background-color: white;}#sk-container-id-16 pre{padding: 0;}#sk-container-id-16 div.sk-toggleable {background-color: white;}#sk-container-id-16 label.sk-toggleable__label {cursor: pointer;display: block;width: 100%;margin-bottom: 0;padding: 0.3em;box-sizing: border-box;text-align: center;}#sk-container-id-16 label.sk-toggleable__label-arrow:before {content: \"▸\";float: left;margin-right: 0.25em;color: #696969;}#sk-container-id-16 label.sk-toggleable__label-arrow:hover:before {color: black;}#sk-container-id-16 div.sk-estimator:hover label.sk-toggleable__label-arrow:before {color: black;}#sk-container-id-16 div.sk-toggleable__content {max-height: 0;max-width: 0;overflow: hidden;text-align: left;background-color: #f0f8ff;}#sk-container-id-16 div.sk-toggleable__content pre {margin: 0.2em;color: black;border-radius: 0.25em;background-color: #f0f8ff;}#sk-container-id-16 input.sk-toggleable__control:checked~div.sk-toggleable__content {max-height: 200px;max-width: 100%;overflow: auto;}#sk-container-id-16 input.sk-toggleable__control:checked~label.sk-toggleable__label-arrow:before {content: \"▾\";}#sk-container-id-16 div.sk-estimator input.sk-toggleable__control:checked~label.sk-toggleable__label {background-color: #d4ebff;}#sk-container-id-16 div.sk-label input.sk-toggleable__control:checked~label.sk-toggleable__label {background-color: #d4ebff;}#sk-container-id-16 input.sk-hidden--visually {border: 0;clip: rect(1px 1px 1px 1px);clip: rect(1px, 1px, 1px, 1px);height: 1px;margin: -1px;overflow: hidden;padding: 0;position: absolute;width: 1px;}#sk-container-id-16 div.sk-estimator {font-family: monospace;background-color: #f0f8ff;border: 1px dotted black;border-radius: 0.25em;box-sizing: border-box;margin-bottom: 0.5em;}#sk-container-id-16 div.sk-estimator:hover {background-color: #d4ebff;}#sk-container-id-16 div.sk-parallel-item::after {content: \"\";width: 100%;border-bottom: 1px solid gray;flex-grow: 1;}#sk-container-id-16 div.sk-label:hover label.sk-toggleable__label {background-color: #d4ebff;}#sk-container-id-16 div.sk-serial::before {content: \"\";position: absolute;border-left: 1px solid gray;box-sizing: border-box;top: 0;bottom: 0;left: 50%;z-index: 0;}#sk-container-id-16 div.sk-serial {display: flex;flex-direction: column;align-items: center;background-color: white;padding-right: 0.2em;padding-left: 0.2em;position: relative;}#sk-container-id-16 div.sk-item {position: relative;z-index: 1;}#sk-container-id-16 div.sk-parallel {display: flex;align-items: stretch;justify-content: center;background-color: white;position: relative;}#sk-container-id-16 div.sk-item::before, #sk-container-id-16 div.sk-parallel-item::before {content: \"\";position: absolute;border-left: 1px solid gray;box-sizing: border-box;top: 0;bottom: 0;left: 50%;z-index: -1;}#sk-container-id-16 div.sk-parallel-item {display: flex;flex-direction: column;z-index: 1;position: relative;background-color: white;}#sk-container-id-16 div.sk-parallel-item:first-child::after {align-self: flex-end;width: 50%;}#sk-container-id-16 div.sk-parallel-item:last-child::after {align-self: flex-start;width: 50%;}#sk-container-id-16 div.sk-parallel-item:only-child::after {width: 0;}#sk-container-id-16 div.sk-dashed-wrapped {border: 1px dashed gray;margin: 0 0.4em 0.5em 0.4em;box-sizing: border-box;padding-bottom: 0.4em;background-color: white;}#sk-container-id-16 div.sk-label label {font-family: monospace;font-weight: bold;display: inline-block;line-height: 1.2em;}#sk-container-id-16 div.sk-label-container {text-align: center;}#sk-container-id-16 div.sk-container {/* jupyter's `normalize.less` sets `[hidden] { display: none; }` but bootstrap.min.css set `[hidden] { display: none !important; }` so we also need the `!important` here to be able to override the default hidden behavior on the sphinx rendered scikit-learn.org. See: https://github.com/scikit-learn/scikit-learn/issues/21755 */display: inline-block !important;position: relative;}#sk-container-id-16 div.sk-text-repr-fallback {display: none;}</style><div id=\"sk-container-id-16\" class=\"sk-top-container\"><div class=\"sk-text-repr-fallback\"><pre>RandomForestRegressor(max_depth=250, n_estimators=300)</pre><b>In a Jupyter environment, please rerun this cell to show the HTML representation or trust the notebook. <br />On GitHub, the HTML representation is unable to render, please try loading this page with nbviewer.org.</b></div><div class=\"sk-container\" hidden><div class=\"sk-item\"><div class=\"sk-estimator sk-toggleable\"><input class=\"sk-toggleable__control sk-hidden--visually\" id=\"sk-estimator-id-16\" type=\"checkbox\" checked><label for=\"sk-estimator-id-16\" class=\"sk-toggleable__label sk-toggleable__label-arrow\">RandomForestRegressor</label><div class=\"sk-toggleable__content\"><pre>RandomForestRegressor(max_depth=250, n_estimators=300)</pre></div></div></div></div></div>"
      ],
      "text/plain": [
       "RandomForestRegressor(max_depth=250, n_estimators=300)"
      ]
     },
     "execution_count": 243,
     "metadata": {},
     "output_type": "execute_result"
    }
   ],
   "source": [
    "# create a model\n",
    "rf = RandomForestRegressor(n_estimators=300, max_depth = 250)\n",
    "# Fit the model to the training data\n",
    "rf.fit(X_train, y_train)\n",
    "\n",
    "\n"
   ]
  },
  {
   "cell_type": "code",
   "execution_count": 244,
   "metadata": {},
   "outputs": [
    {
     "name": "stdout",
     "output_type": "stream",
     "text": [
      "0.35085670772802824\n",
      "108570.17555348524\n",
      "311845.9815941588\n",
      "0.6518468027117945\n"
     ]
    }
   ],
   "source": [
    "# Make predictions on the test data\n",
    "y_pred = rf.predict(X_test)\n",
    "# calculate accurracy\n",
    "print(rf.score(X_test, y_test))\n",
    "#mean absolute error\n",
    "error =abs(y_pred - y_test).mean() \n",
    "print(error)\n",
    "#mean of price\n",
    "print(data[\"Price\"].mean())\n",
    "#accurracy of the model \n",
    "print(1-error/data[\"Price\"].mean())\n"
   ]
  }
 ],
 "metadata": {
  "kernelspec": {
   "display_name": "Python 3",
   "language": "python",
   "name": "python3"
  },
  "language_info": {
   "codemirror_mode": {
    "name": "ipython",
    "version": 3
   },
   "file_extension": ".py",
   "mimetype": "text/x-python",
   "name": "python",
   "nbconvert_exporter": "python",
   "pygments_lexer": "ipython3",
   "version": "3.11.0"
  },
  "orig_nbformat": 4,
  "vscode": {
   "interpreter": {
    "hash": "9dedff83ea22ac1e78a09bf9ceaf8b04075e75f42a22f8959ff6e9562589b439"
   }
  }
 },
 "nbformat": 4,
 "nbformat_minor": 2
}
